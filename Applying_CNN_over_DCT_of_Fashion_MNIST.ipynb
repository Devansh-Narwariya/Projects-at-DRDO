{
  "nbformat": 4,
  "nbformat_minor": 0,
  "metadata": {
    "colab": {
      "name": "Applying CNN over DCT of Fashion-MNIST",
      "provenance": [],
      "authorship_tag": "ABX9TyOROofea+YcvHstho0C4CBo",
      "include_colab_link": true
    },
    "kernelspec": {
      "name": "python3",
      "display_name": "Python 3"
    },
    "language_info": {
      "name": "python"
    }
  },
  "cells": [
    {
      "cell_type": "markdown",
      "metadata": {
        "id": "view-in-github",
        "colab_type": "text"
      },
      "source": [
        "<a href=\"https://colab.research.google.com/github/Devansh-Narwariya/Projects-at-DRDO/blob/main/Applying_CNN_over_DCT_of_Fashion_MNIST.ipynb\" target=\"_parent\"><img src=\"https://colab.research.google.com/assets/colab-badge.svg\" alt=\"Open In Colab\"/></a>"
      ]
    },
    {
      "cell_type": "code",
      "execution_count": 1,
      "metadata": {
        "id": "wRqo8Z5on1_N"
      },
      "outputs": [],
      "source": [
        "import tensorflow as tf"
      ]
    },
    {
      "cell_type": "code",
      "source": [
        "# Load the Fashion-MNIST dataset\n",
        "\n",
        "(train_images, train_labels), (test_images, test_labels) = tf.keras.datasets.fashion_mnist.load_data()"
      ],
      "metadata": {
        "colab": {
          "base_uri": "https://localhost:8080/"
        },
        "id": "rea8ph1Gn4TW",
        "outputId": "7d10870d-66c3-459a-a350-cc4159fc726e"
      },
      "execution_count": 2,
      "outputs": [
        {
          "output_type": "stream",
          "name": "stdout",
          "text": [
            "Downloading data from https://storage.googleapis.com/tensorflow/tf-keras-datasets/train-labels-idx1-ubyte.gz\n",
            "32768/29515 [=================================] - 0s 0us/step\n",
            "40960/29515 [=========================================] - 0s 0us/step\n",
            "Downloading data from https://storage.googleapis.com/tensorflow/tf-keras-datasets/train-images-idx3-ubyte.gz\n",
            "26427392/26421880 [==============================] - 0s 0us/step\n",
            "26435584/26421880 [==============================] - 0s 0us/step\n",
            "Downloading data from https://storage.googleapis.com/tensorflow/tf-keras-datasets/t10k-labels-idx1-ubyte.gz\n",
            "16384/5148 [===============================================================================================] - 0s 0us/step\n",
            "Downloading data from https://storage.googleapis.com/tensorflow/tf-keras-datasets/t10k-images-idx3-ubyte.gz\n",
            "4423680/4422102 [==============================] - 0s 0us/step\n",
            "4431872/4422102 [==============================] - 0s 0us/step\n"
          ]
        }
      ]
    },
    {
      "cell_type": "code",
      "source": [
        "import matplotlib.pyplot as plt"
      ],
      "metadata": {
        "id": "EQ6Gwoutn8d1"
      },
      "execution_count": 3,
      "outputs": []
    },
    {
      "cell_type": "code",
      "source": [
        "# Rescale the image values so that they lie in between 0 and 1.\n",
        "\n",
        "train_images=train_images/255.\n",
        "test_images=test_images/255."
      ],
      "metadata": {
        "id": "BB9ip6o7oODk"
      },
      "execution_count": 4,
      "outputs": []
    },
    {
      "cell_type": "code",
      "source": [
        "# Display one of the images\n",
        "\n",
        "img=train_images[0]\n",
        "plt.imshow(img,cmap='gray')"
      ],
      "metadata": {
        "colab": {
          "base_uri": "https://localhost:8080/",
          "height": 282
        },
        "id": "f4qtT2edozFP",
        "outputId": "a7e203e6-ac57-430a-83aa-1b0be0814ee1"
      },
      "execution_count": 5,
      "outputs": [
        {
          "output_type": "execute_result",
          "data": {
            "text/plain": [
              "<matplotlib.image.AxesImage at 0x7fdd780d7610>"
            ]
          },
          "metadata": {},
          "execution_count": 5
        },
        {
          "output_type": "display_data",
          "data": {
            "text/plain": [
              "<Figure size 432x288 with 1 Axes>"
            ],
            "image/png": "[encoded data removed]"
          },
          "metadata": {
            "needs_background": "light"
          }
        }
      ]
    },
    {
      "cell_type": "code",
      "source": [
        "from scipy.fftpack import dct\n",
        "import numpy as np\n",
        "\n",
        "def dct2(f):\n",
        "    return dct(dct(f, axis=0, norm='ortho' ),axis=1, norm='ortho')"
      ],
      "metadata": {
        "id": "EbHJ6xHzF8wx"
      },
      "execution_count": 6,
      "outputs": []
    },
    {
      "cell_type": "code",
      "source": [
        "patch_size = 8  #8x8 patch\n",
        "for i in range(0, len(train_images), 1):\n",
        "  I=train_images[i]\n",
        "  I_dct = np.zeros_like(I)\n",
        "  for j in range(0,I.shape[0],patch_size):\n",
        "    for k in range(0,I.shape[1],patch_size):\n",
        "        I_dct[j:(j+patch_size),k:(k+patch_size)] = dct2(I[j:(j+patch_size),k:(k+patch_size)])\n",
        "  train_images[i] = I_dct"
      ],
      "metadata": {
        "id": "zU3WfGyVF_Qy"
      },
      "execution_count": 7,
      "outputs": []
    },
    {
      "cell_type": "code",
      "source": [
        "plt.imshow(train_images[0],cmap='gray',vmin=0,vmax=np.max(train_images[0])*0.01)"
      ],
      "metadata": {
        "colab": {
          "base_uri": "https://localhost:8080/",
          "height": 282
        },
        "id": "7hP7xxcUGCuz",
        "outputId": "1448d1dc-0d99-46f6-dc0d-b760e1961de4"
      },
      "execution_count": 8,
      "outputs": [
        {
          "output_type": "execute_result",
          "data": {
            "text/plain": [
              "<matplotlib.image.AxesImage at 0x7fdd77bccf10>"
            ]
          },
          "metadata": {},
          "execution_count": 8
        },
        {
          "output_type": "display_data",
          "data": {
            "text/plain": [
              "<Figure size 432x288 with 1 Axes>"
            ],
            "image/png": "[encoded data removed]"
          },
          "metadata": {
            "needs_background": "light"
          }
        }
      ]
    },
    {
      "cell_type": "code",
      "source": [
        "patch_size = 8  #8x8 patch\n",
        "for i in range(0, len(test_images), 1):\n",
        "  I=test_images[i]\n",
        "  I_dct = np.zeros_like(I)\n",
        "  for j in range(0,I.shape[0],patch_size):\n",
        "    for k in range(0,I.shape[1],patch_size):\n",
        "        I_dct[j:(j+patch_size),k:(k+patch_size)] = dct2(I[j:(j+patch_size),k:(k+patch_size)])\n",
        "  test_images[i] = I_dct"
      ],
      "metadata": {
        "id": "XgI2jXpVGFDO"
      },
      "execution_count": 9,
      "outputs": []
    },
    {
      "cell_type": "code",
      "source": [
        "from tensorflow.keras.models import Sequential\n",
        "from tensorflow.keras.layers import Dense, Flatten, Conv2D, MaxPooling2D\n",
        "from tensorflow.keras.preprocessing import image\n",
        "import pandas as pd"
      ],
      "metadata": {
        "id": "lMXSDdhcGH41"
      },
      "execution_count": 10,
      "outputs": []
    },
    {
      "cell_type": "code",
      "source": [
        "# Build the Sequential convolutional neural network model\n",
        "model = Sequential([\n",
        "    Conv2D(16,kernel_size=3,padding='SAME',strides=2,activation='relu',input_shape=(28,28,1)),\n",
        "    MaxPooling2D(pool_size=3),\n",
        "    Flatten(),\n",
        "    Dense(10,activation='softmax')\n",
        "])"
      ],
      "metadata": {
        "id": "ikwnHfYTGKT5"
      },
      "execution_count": 11,
      "outputs": []
    },
    {
      "cell_type": "code",
      "source": [
        "# Define the model optimizer, loss function and metrics\n",
        "\n",
        "opt=tf.keras.optimizers.Adam(learning_rate=0.005)\n",
        "model.compile(optimizer=opt,\n",
        "             loss='sparse_categorical_crossentropy',\n",
        "             metrics=[])"
      ],
      "metadata": {
        "id": "-i1-ieSjGMvH"
      },
      "execution_count": 12,
      "outputs": []
    },
    {
      "cell_type": "code",
      "source": [
        "# Define the labels\n",
        "\n",
        "labels = [\n",
        "    'T-shirt/top',\n",
        "    'Trouser',\n",
        "    'Pullover',\n",
        "    'Dress',\n",
        "    'Coat',\n",
        "    'Sandal',\n",
        "    'Shirt',\n",
        "    'Sneaker',\n",
        "    'Bag',\n",
        "    'Ankle boot'\n",
        "]"
      ],
      "metadata": {
        "id": "P2s3kKBjGQBF"
      },
      "execution_count": 13,
      "outputs": []
    },
    {
      "cell_type": "code",
      "source": [
        "# Fit the model\n",
        "\n",
        "history=model.fit(train_images[...,np.newaxis],train_labels,epochs=10,batch_size=256)"
      ],
      "metadata": {
        "colab": {
          "base_uri": "https://localhost:8080/"
        },
        "id": "bYW19gCWG3oi",
        "outputId": "678becff-5dff-40e9-fa83-38df918ad1ad"
      },
      "execution_count": 14,
      "outputs": [
        {
          "output_type": "stream",
          "name": "stdout",
          "text": [
            "Epoch 1/10\n",
            "235/235 [==============================] - 5s 18ms/step - loss: 0.7187\n",
            "Epoch 2/10\n",
            "235/235 [==============================] - 4s 18ms/step - loss: 0.4715\n",
            "Epoch 3/10\n",
            "235/235 [==============================] - 4s 18ms/step - loss: 0.4304\n",
            "Epoch 4/10\n",
            "235/235 [==============================] - 4s 18ms/step - loss: 0.4175\n",
            "Epoch 5/10\n",
            "235/235 [==============================] - 4s 18ms/step - loss: 0.4018\n",
            "Epoch 6/10\n",
            "235/235 [==============================] - 4s 18ms/step - loss: 0.3911\n",
            "Epoch 7/10\n",
            "235/235 [==============================] - 4s 18ms/step - loss: 0.3827\n",
            "Epoch 8/10\n",
            "235/235 [==============================] - 4s 18ms/step - loss: 0.3803\n",
            "Epoch 9/10\n",
            "235/235 [==============================] - 4s 18ms/step - loss: 0.3747\n",
            "Epoch 10/10\n",
            "235/235 [==============================] - 4s 18ms/step - loss: 0.3696\n"
          ]
        }
      ]
    }
  ]
}