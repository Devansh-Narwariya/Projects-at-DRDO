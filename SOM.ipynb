{
  "nbformat": 4,
  "nbformat_minor": 0,
  "metadata": {
    "colab": {
      "provenance": [],
      "authorship_tag": "ABX9TyNKThH+gY0gM3b6I+qsvgy5",
      "include_colab_link": true
    },
    "kernelspec": {
      "name": "python3",
      "display_name": "Python 3"
    },
    "language_info": {
      "name": "python"
    }
  },
  "cells": [
    {
      "cell_type": "markdown",
      "metadata": {
        "id": "view-in-github",
        "colab_type": "text"
      },
      "source": [
        "<a href=\"https://colab.research.google.com/github/Devansh-Narwariya/Projects-at-DRDO/blob/main/SOM.ipynb\" target=\"_parent\"><img src=\"https://colab.research.google.com/assets/colab-badge.svg\" alt=\"Open In Colab\"/></a>"
      ]
    },
    {
      "cell_type": "code",
      "execution_count": 2,
      "metadata": {
        "colab": {
          "base_uri": "https://localhost:8080/"
        },
        "id": "THnu8ZnQj8sr",
        "outputId": "7e01c22d-ce30-4bf0-bd3e-840f744e9be6"
      },
      "outputs": [
        {
          "output_type": "stream",
          "name": "stdout",
          "text": [
            "Test Sample s belongs to Cluster :  0\n",
            "Trained weights :  [[0.6000000000000001, 0.8, 0.5, 0.9], [0.3333984375, 0.0666015625, 0.7, 0.3]]\n"
          ]
        }
      ],
      "source": [
        "import math\n",
        " \n",
        "class SOM:\n",
        "    def winner(self, weights, sample):\n",
        " \n",
        "        D0 = 0\n",
        "        D1 = 0\n",
        " \n",
        "        for i in range(len(sample)):\n",
        " \n",
        "            D0 = D0 + math.pow((sample[i] - weights[0][i]), 2)\n",
        "            D1 = D1 + math.pow((sample[i] - weights[1][i]), 2)\n",
        " \n",
        "            if D0 > D1:\n",
        "                return 0\n",
        "            else:\n",
        "                return 1\n",
        " \n",
        "    def update(self, weights, sample, J, alpha):\n",
        " \n",
        "        for i in range(len(weights)):\n",
        "            weights[J][i] = weights[J][i] + alpha * (sample[i] - weights[J][i])\n",
        " \n",
        "        return weights\n",
        " \n",
        "def main():\n",
        " \n",
        "    T = [[1, 1, 0, 0], [0, 0, 0, 1], [1, 0, 0, 0], [0, 0, 1, 1]]\n",
        " \n",
        "    m, n = len(T), len(T[0])\n",
        " \n",
        "    weights = [[0.2, 0.6, 0.5, 0.9], [0.8, 0.4, 0.7, 0.3]]\n",
        " \n",
        "    ob = SOM()\n",
        " \n",
        "    epochs = 3\n",
        "    alpha = 0.5\n",
        " \n",
        "    for i in range(epochs):\n",
        "        for j in range(m):\n",
        " \n",
        "            sample = T[j]\n",
        " \n",
        "            J = ob.winner(weights, sample)\n",
        " \n",
        "            weights = ob.update(weights, sample, J, alpha)\n",
        " \n",
        "    s = [0, 0, 0, 1]\n",
        "    J = ob.winner(weights, s)\n",
        " \n",
        "    print(\"Test Sample s belongs to Cluster : \", J)\n",
        "    print(\"Trained weights : \", weights)\n",
        " \n",
        " \n",
        "if __name__ == \"__main__\":\n",
        "    main()"
      ]
    }
  ]
}